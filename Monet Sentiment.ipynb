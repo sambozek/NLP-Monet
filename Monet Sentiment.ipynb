{
 "cells": [
  {
   "cell_type": "code",
   "execution_count": 15,
   "metadata": {},
   "outputs": [],
   "source": [
    "import wikipedia\n",
    "from lxml import html\n",
    "import requests"
   ]
  },
  {
   "cell_type": "code",
   "execution_count": 16,
   "metadata": {},
   "outputs": [],
   "source": [
    "CM = wikipedia.WikipediaPage('Claude Monet').content\n",
    "women_in_garden = wikipedia.WikipediaPage('Women_in_the_Garden').content"
   ]
  },
  {
   "cell_type": "code",
   "execution_count": 29,
   "metadata": {},
   "outputs": [],
   "source": [
    "deathbed_page = requests.get('http://www.wga.hu/html_m/m/monet/05/2vario03.html')\n",
    "deathbed_tree = html.fromstring(deathbed_page.content)\n",
    "deathbed_desc = deathbed_tree.xpath(\"///td/p/text()\")"
   ]
  },
  {
   "cell_type": "code",
   "execution_count": 30,
   "metadata": {},
   "outputs": [
    {
     "data": {
      "text/plain": [
       "[\"\\nCamille, Monet's first wife died in 1879 after a long illness. Monet did a pale pink and blue study of her on her deathbed, the evanescent fluidity of which seems to articulate the slipping away form life of the loved one.\\n\\n\",\n",
       " '\\n']"
      ]
     },
     "execution_count": 30,
     "metadata": {},
     "output_type": "execute_result"
    }
   ],
   "source": [
    "deathbed_desc"
   ]
  }
 ],
 "metadata": {
  "kernelspec": {
   "display_name": "Python [default]",
   "language": "python",
   "name": "python3"
  },
  "language_info": {
   "codemirror_mode": {
    "name": "ipython",
    "version": 3
   },
   "file_extension": ".py",
   "mimetype": "text/x-python",
   "name": "python",
   "nbconvert_exporter": "python",
   "pygments_lexer": "ipython3",
   "version": "3.5.2"
  }
 },
 "nbformat": 4,
 "nbformat_minor": 0
}
